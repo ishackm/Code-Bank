{
 "cells": [
  {
   "cell_type": "code",
   "execution_count": 8,
   "metadata": {},
   "outputs": [],
   "source": [
    "genpos=open(\"Phosphosite_info.csv\",\"r\")\n",
    "line=genpos.readline()\n",
    "accessiondic={}\n",
    "while True:\n",
    "    line=genpos.readline()\n",
    "    if line==\"\":\n",
    "        break\n",
    "    else:\n",
    "        line=line.split(\",\")\n",
    "        if line[0] not in accessiondic:\n",
    "            accessiondic[line[0]]=line[3]\n",
    "genpos.close()"
   ]
  },
  {
   "cell_type": "code",
   "execution_count": 46,
   "metadata": {},
   "outputs": [],
   "source": [
    "kinasefile=open(\"kinase_info_final.csv\",\"r\")#current kinase file\n",
    "newkinasefile=open(\"Kinase_info-genpos_insert.csv\",\"w\")#new kinase file with formatting\n",
    "line=kinasefile.readline()\n",
    "newkinaseline=[]\n",
    "linecount=0\n",
    "while True:\n",
    "    line=kinasefile.readline()\n",
    "    linecount+=1\n",
    "    line=line.split(\",\")\n",
    "    if line==\"\":\n",
    "        break\n",
    "    if linecount>550:\n",
    "        break\n",
    "    else:\n",
    "        #first fix the issue of long name and alternative names both being in cell\n",
    "        if len(line)>1:\n",
    "            if \"(\" in line[6]:\n",
    "                line[6]=line[6].split(\"(\",1)[0] #splits altnames line by first open brackets and only keeps first half\n",
    "            else:\n",
    "                line[6]=line[6][:-1] #fixes formatting error that occurred if no open bracket exists\n",
    "            line[3]=line[3].split(\" \",1)[0] #takes only first gene name in list\n",
    "            if line[1] in accessiondic:\n",
    "                genomeposition=accessiondic[line[1]]\n",
    "                line.append(genomeposition) #finding genome location based on accession in dictionary and appending to line\n",
    "                newkinaseline.append(\",\".join(line))\n",
    "            else:\n",
    "                newkinaseline.append(\",\".join(line))\n",
    "                    \n",
    "kinasefile.close()\n",
    "newkinasefile.write(\"KinaseID,Accession,Kinase_name,Gene_symbol,Gene_family,Cell_location,Protein_longname,Genome_location \\n\")\n",
    "for x in newkinaseline:\n",
    "    newkinasefile.write(x+str(\"\\n\"))\n",
    "newkinasefile.close()"
   ]
  }
 ],
 "metadata": {
  "kernelspec": {
   "display_name": "Python 2",
   "language": "python",
   "name": "python2"
  },
  "language_info": {
   "codemirror_mode": {
    "name": "ipython",
    "version": 2
   },
   "file_extension": ".py",
   "mimetype": "text/x-python",
   "name": "python",
   "nbconvert_exporter": "python",
   "pygments_lexer": "ipython2",
   "version": "2.7.15"
  }
 },
 "nbformat": 4,
 "nbformat_minor": 2
}
