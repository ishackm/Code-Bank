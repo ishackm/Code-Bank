{
 "cells": [
  {
   "cell_type": "code",
   "execution_count": 85,
   "metadata": {},
   "outputs": [],
   "source": [
    "kinase=open(\"kinase_info_final.csv\",\"r\")\n",
    "line=kinase.readline()\n",
    "alt_names={}\n",
    "while line != \"\":\n",
    "    line=kinase.readline()\n",
    "    line=line.split(\",\")\n",
    "    if len(line)<2:\n",
    "        break\n",
    "    elif line[2] not in alt_names:\n",
    "        alt_names[line[2]]=[]\n",
    "        genenames=line[3].split()\n",
    "        for y in genenames:\n",
    "            if y not in alt_names[line[2]]:\n",
    "                alt_names[line[2]].append(y)\n",
    "        line2=line[-1].split(\"(\")\n",
    "        del line2[0]\n",
    "        for y in line2:\n",
    "            y2=y.replace(\")\",\"\")\n",
    "            y3=y2.replace(\"\\n\",\"\")\n",
    "            while True:\n",
    "                if y3[-1]==\" \":\n",
    "                    y3=y3[:-1]\n",
    "                else:\n",
    "                    break\n",
    "            if y3 not in alt_names[line[2]]:\n",
    "                alt_names[line[2]].append(y3)\n",
    "for x in alt_names:\n",
    "    if x=='':\n",
    "        del alt_names[x]\n",
    "kinase.close()\n",
    "newfile=open(\"Protein_alt_names.csv\",\"w+\")\n",
    "for x in alt_names:\n",
    "    for y in alt_names[x]:\n",
    "        newfile.write(x+\",\"+y+\"\\n\")\n",
    "newfile.close()"
   ]
  }
 ],
 "metadata": {
  "kernelspec": {
   "display_name": "Python 2",
   "language": "python",
   "name": "python2"
  },
  "language_info": {
   "codemirror_mode": {
    "name": "ipython",
    "version": 2
   },
   "file_extension": ".py",
   "mimetype": "text/x-python",
   "name": "python",
   "nbconvert_exporter": "python",
   "pygments_lexer": "ipython2",
   "version": "2.7.15"
  }
 },
 "nbformat": 4,
 "nbformat_minor": 2
}
