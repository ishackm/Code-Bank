{
 "cells": [
  {
   "cell_type": "code",
   "execution_count": 17,
   "metadata": {},
   "outputs": [],
   "source": [
    "#take inhib name from file with corresponding image link\n",
    "IMtable=open(\"Chemical_structures.csv\",\"r\")\n",
    "line=IMtable.readline()\n",
    "imagelib={}\n",
    "while True:\n",
    "    line=IMtable.readline()\n",
    "    if line==\"\":\n",
    "        break\n",
    "    else:\n",
    "        line=line.split(\",\")\n",
    "        imagelib[line[1]]=line[4]\n",
    "        \n",
    "IMtable.close()"
   ]
  },
  {
   "cell_type": "code",
   "execution_count": 18,
   "metadata": {},
   "outputs": [],
   "source": [
    "#append image link to end of inhibitor csv file\n",
    "inhibtable=open(\"Inhibitor_table.csv\",\"r\")\n",
    "IMinhibtable=open(\"new_Inhibitor_table.csv\",\"w\")\n",
    "line=inhibtable.readline()\n",
    "while True:\n",
    "    line=inhibtable.readline()\n",
    "    if line==\"\":\n",
    "        break\n",
    "    else:\n",
    "        found=False\n",
    "        line=line[:-1]\n",
    "        line=line.split(\",\")\n",
    "        inhib=line[1]\n",
    "        for x in imagelib:\n",
    "            if x==inhib:\n",
    "                line.append(imagelib[x])\n",
    "                found=True\n",
    "        if found==False:\n",
    "            line.append(\"\\n\")\n",
    "        IMinhibtable.write(\",\".join(line))\n",
    "inhibtable.close()\n",
    "IMinhibtable.close()"
   ]
  },
  {
   "cell_type": "code",
   "execution_count": null,
   "metadata": {},
   "outputs": [],
   "source": []
  }
 ],
 "metadata": {
  "kernelspec": {
   "display_name": "Python 2",
   "language": "python",
   "name": "python2"
  },
  "language_info": {
   "codemirror_mode": {
    "name": "ipython",
    "version": 2
   },
   "file_extension": ".py",
   "mimetype": "text/x-python",
   "name": "python",
   "nbconvert_exporter": "python",
   "pygments_lexer": "ipython2",
   "version": "2.7.15"
  }
 },
 "nbformat": 4,
 "nbformat_minor": 2
}
