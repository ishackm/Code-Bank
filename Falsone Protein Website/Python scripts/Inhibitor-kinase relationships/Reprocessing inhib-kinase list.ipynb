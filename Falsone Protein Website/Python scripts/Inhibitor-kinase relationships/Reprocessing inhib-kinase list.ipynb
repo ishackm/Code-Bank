{
 "cells": [
  {
   "cell_type": "code",
   "execution_count": 13,
   "metadata": {},
   "outputs": [],
   "source": [
    "inhibkin=open(\"Inhibitor-kinase-relationships.csv\",\"r\")\n",
    "inhibdic={}\n",
    "while True:\n",
    "    inhib=inhibkin.readline()\n",
    "    if inhib==\"\":\n",
    "        break\n",
    "    else:\n",
    "        inhib=inhib.split(\",\")\n",
    "        inhibdic[inhib[0]]=inhib[1:]\n",
    "inhibkin.close()\n",
    "newfile=open(\"Inhib-kinase-cleaned.csv\",\"w\")\n",
    "for x in inhibdic:\n",
    "    for y in inhibdic[x]:\n",
    "        #print(x+\",\"+y)\n",
    "        newfile.write(x+\",\"+y+\"\\n\")\n",
    "newfile.close()"
   ]
  }
 ],
 "metadata": {
  "kernelspec": {
   "display_name": "Python 2",
   "language": "python",
   "name": "python2"
  },
  "language_info": {
   "codemirror_mode": {
    "name": "ipython",
    "version": 2
   },
   "file_extension": ".py",
   "mimetype": "text/x-python",
   "name": "python",
   "nbconvert_exporter": "python",
   "pygments_lexer": "ipython2",
   "version": "2.7.15"
  }
 },
 "nbformat": 4,
 "nbformat_minor": 2
}
