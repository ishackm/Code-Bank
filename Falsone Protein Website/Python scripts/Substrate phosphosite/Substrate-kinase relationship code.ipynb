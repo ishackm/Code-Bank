{
 "cells": [
  {
   "cell_type": "code",
   "execution_count": 27,
   "metadata": {},
   "outputs": [],
   "source": [
    "#take a line\n",
    "subsfile=open(\"Substrate_site table.csv\",\"r\")\n",
    "line=subsfile.readline()\n",
    "site={}\n",
    "UID={}\n",
    "count=0\n",
    "while True:\n",
    "    line=subsfile.readline()\n",
    "    linedone=False\n",
    "    if line==\"\":\n",
    "        break\n",
    "    else:\n",
    "        line=line.split(\",\")\n",
    "        found=False\n",
    "        kinase=line[0]\n",
    "        rest=line[1:]\n",
    "        for x in site:\n",
    "            if site[x]==rest:\n",
    "                found=True #looking through sites dictionary to see if line already exists\n",
    "                UID[x].append(kinase) #if line exists, appends kinase to existing lines UID\n",
    "        if found==False:\n",
    "            count+=1\n",
    "            site[count]=rest\n",
    "            UID[count]=[kinase]\n",
    "#skip kinase \n",
    "#if rest of line not in dic: dic[UID]=restofline, kindic[UID]=kinase\n",
    "#if line in dic; kindic[UID]+=kinase"
   ]
  },
  {
   "cell_type": "code",
   "execution_count": 33,
   "metadata": {},
   "outputs": [],
   "source": [
    "newfile1=open(\"Substrate-position_wUID.csv\",\"w\")\n",
    "for x in site:\n",
    "    newfile1.write(str(x)+\",\"+\",\".join(site[x]))\n",
    "newfile1.close()"
   ]
  },
  {
   "cell_type": "code",
   "execution_count": 37,
   "metadata": {},
   "outputs": [],
   "source": [
    "newfile2=open(\"UID-kinase_relationship.csv\",\"w\")\n",
    "for x in UID:\n",
    "    for y in UID[x]:\n",
    "        newfile2.write(str(x)+\",\"+str(y)+\"\\n\")\n",
    "newfile2.close()"
   ]
  }
 ],
 "metadata": {
  "kernelspec": {
   "display_name": "Python 2",
   "language": "python",
   "name": "python2"
  },
  "language_info": {
   "codemirror_mode": {
    "name": "ipython",
    "version": 2
   },
   "file_extension": ".py",
   "mimetype": "text/x-python",
   "name": "python",
   "nbconvert_exporter": "python",
   "pygments_lexer": "ipython2",
   "version": "2.7.15"
  }
 },
 "nbformat": 4,
 "nbformat_minor": 2
}
