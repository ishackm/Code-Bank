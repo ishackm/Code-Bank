{
 "cells": [
  {
   "cell_type": "code",
   "execution_count": 1,
   "metadata": {},
   "outputs": [
    {
     "name": "stderr",
     "output_type": "stream",
     "text": [
      "C:\\Users\\44771\\Anaconda3\\lib\\site-packages\\sqlalchemy\\dialects\\sqlite\\base.py:1297: SAWarning: Could not instantiate type <class 'sqlalchemy.sql.sqltypes.INTEGER'> with reflected arguments ['3']; using no arguments.\n",
      "  (coltype, args))\n",
      "C:\\Users\\44771\\Anaconda3\\lib\\site-packages\\sqlalchemy\\dialects\\sqlite\\base.py:1297: SAWarning: Could not instantiate type <class 'sqlalchemy.sql.sqltypes.INTEGER'> with reflected arguments ['7']; using no arguments.\n",
      "  (coltype, args))\n",
      "C:\\Users\\44771\\Anaconda3\\lib\\site-packages\\sqlalchemy\\dialects\\sqlite\\base.py:1297: SAWarning: Could not instantiate type <class 'sqlalchemy.sql.sqltypes.INTEGER'> with reflected arguments ['5']; using no arguments.\n",
      "  (coltype, args))\n"
     ]
    }
   ],
   "source": [
    "from sqlalchemy import create_engine\n",
    "from sqlalchemy.orm import sessionmaker\n",
    "engine=create_engine(\"sqlite:///1.7 -funtional.db\")#,echo=True)\n",
    "Session=sessionmaker(bind=engine)\n",
    "session=Session()\n",
    "\n",
    "from sqlalchemy import MetaData, Table\n",
    "metadata = MetaData()\n",
    "alt_names=Table('Alt_names', metadata, autoload=True, autoload_with=engine)\n",
    "inhibitor=Table('Inhibitor',metadata,autoload=True,autoload_with=engine)\n",
    "kinase=Table('Kinase',metadata,autoload=True,autoload_with=engine)\n",
    "kinase_inhibitor=Table('Kinase_Inhibitor',metadata,autoload=True,autoload_with=engine)\n",
    "sub_phos=Table('Substrate_phosphosite',metadata,autoload=True,autoload_with=engine)\n",
    "substrate_kinase=Table('Substrate_site_Kinase',metadata,autoload=True,autoload_with=engine)\n",
    "substrate=Table('Substrate',metadata,autoload=True,autoload_with=engine)"
   ]
  },
  {
   "cell_type": "code",
   "execution_count": 26,
   "metadata": {},
   "outputs": [],
   "source": [
    "filename=\"az20\"\n",
    "tsvfile=open(filename+\".tsv\",\"r\")\n",
    "newtsv=open(filename+\"-kinase.csv\",\"w\")\n",
    "line=tsvfile.readline()\n",
    "line=line.split()\n",
    "line.append(\"Kinase\")\n",
    "line.append(\"\\n\")\n",
    "newtsv.write(\",\".join(line))\n",
    "\n",
    "while True:\n",
    "    line=tsvfile.readline()\n",
    "    if line==\"\":\n",
    "        break\n",
    "    else:\n",
    "        line=line.split()\n",
    "        kn=line[0]\n",
    "        kinlist=[]\n",
    "        kn=kn.split(\"(\")\n",
    "        kn[1]=kn[1][:-1]\n",
    "        subs=kn[0]\n",
    "        modres=kn[1]\n",
    "        try:\n",
    "            kname=session.query(sub_phos).filter(sub_phos.c.Modified_residue==modres,sub_phos.c.Substrate_name==subs).one()\n",
    "            kin=session.query(substrate_kinase).filter(substrate_kinase.c.Substrate_kinase_ID==kname.Substrate_kinase_ID).all()\n",
    "            for x in kin:\n",
    "                newtsv.write(\",\".join(line)+\",\"+str(x.Kinase_name)+\"\\n\")\n",
    "                #print(line)\n",
    "\n",
    "        except:\n",
    "            try:\n",
    "                sname=session.query(substrate).filter(substrate.c.Substrate_gene_name==subs).one()\n",
    "                kname=session.query(sub_phos).filter(sub_phos.c.Modified_residue==modres,sub_phos.c.Substrate_name==sname.Substrate_name).one()\n",
    "                kin=session.query(substrate_kinase).filter(substrate_kinase.c.Substrate_kinase_ID==kname.Substrate_kinase_ID).all()\n",
    "                for x in kin:\n",
    "                    newtsv.write(\",\".join(line)+\",\"+str(x.Kinase_name)+\"\\n\")\n",
    "            except:\n",
    "                pass\n",
    "tsvfile.close()\n",
    "newtsv.close()"
   ]
  }
 ],
 "metadata": {
  "kernelspec": {
   "display_name": "Python 3",
   "language": "python",
   "name": "python3"
  },
  "language_info": {
   "codemirror_mode": {
    "name": "ipython",
    "version": 3
   },
   "file_extension": ".py",
   "mimetype": "text/x-python",
   "name": "python",
   "nbconvert_exporter": "python",
   "pygments_lexer": "ipython3",
   "version": "3.7.0"
  }
 },
 "nbformat": 4,
 "nbformat_minor": 2
}
