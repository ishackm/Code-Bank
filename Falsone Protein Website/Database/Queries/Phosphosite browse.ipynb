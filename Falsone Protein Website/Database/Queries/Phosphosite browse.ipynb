{
 "cells": [
  {
   "cell_type": "code",
   "execution_count": 1,
   "metadata": {},
   "outputs": [
    {
     "name": "stderr",
     "output_type": "stream",
     "text": [
      "C:\\Users\\44771\\Anaconda3\\lib\\site-packages\\sqlalchemy\\dialects\\sqlite\\base.py:1297: SAWarning: Could not instantiate type <class 'sqlalchemy.sql.sqltypes.INTEGER'> with reflected arguments ['3']; using no arguments.\n",
      "  (coltype, args))\n",
      "C:\\Users\\44771\\Anaconda3\\lib\\site-packages\\sqlalchemy\\dialects\\sqlite\\base.py:1297: SAWarning: Could not instantiate type <class 'sqlalchemy.sql.sqltypes.INTEGER'> with reflected arguments ['7']; using no arguments.\n",
      "  (coltype, args))\n",
      "C:\\Users\\44771\\Anaconda3\\lib\\site-packages\\sqlalchemy\\dialects\\sqlite\\base.py:1297: SAWarning: Could not instantiate type <class 'sqlalchemy.sql.sqltypes.INTEGER'> with reflected arguments ['5']; using no arguments.\n",
      "  (coltype, args))\n"
     ]
    }
   ],
   "source": [
    "from sqlalchemy import create_engine\n",
    "from sqlalchemy.orm import sessionmaker\n",
    "engine=create_engine(\"sqlite:///1.7 -funtional.db\")#,echo=True)\n",
    "Session=sessionmaker(bind=engine)\n",
    "session=Session()\n",
    "\n",
    "from sqlalchemy import MetaData, Table\n",
    "metadata = MetaData()\n",
    "alt_names=Table('Alt_names', metadata, autoload=True, autoload_with=engine)\n",
    "inhibitor=Table('Inhibitor',metadata,autoload=True,autoload_with=engine)\n",
    "kinase=Table('Kinase',metadata,autoload=True,autoload_with=engine)\n",
    "kinase_inhibitor=Table('Kinase_Inhibitor',metadata,autoload=True,autoload_with=engine)\n",
    "sub_phos=Table('Substrate_phosphosite',metadata,autoload=True,autoload_with=engine)\n",
    "substrate_kinase=Table('Substrate_site_Kinase',metadata,autoload=True,autoload_with=engine)\n",
    "substrate=Table('Substrate',metadata,autoload=True,autoload_with=engine)"
   ]
  },
  {
   "cell_type": "code",
   "execution_count": 9,
   "metadata": {},
   "outputs": [
    {
     "name": "stdout",
     "output_type": "stream",
     "text": [
      "Genome location: 14q\n",
      "('A1ATR_HUMAN', 'P20848', 'SERPINA2') 14q32.13\n",
      "('ADCK1_HUMAN', 'Q86TW2', 'ADCK1') 14q24.3\n",
      "('AKT1_HUMAN', 'P31749', 'AKT1') 14q32.33\n",
      "('CDKL1_HUMAN', 'Q00532', 'CDKL1') 14q21.3\n",
      "('KPCD1_HUMAN', 'Q15139', 'PRKD1') 14q12\n",
      "('KPCL_HUMAN', 'P24723', 'PRKCH') 14q23.1\n",
      "('KS6A5_HUMAN', 'O75582', 'RPS6KA5') 14q32.11\n",
      "('M3K9_HUMAN', 'P80192', 'MAP3K9') 14q24.2\n",
      "('M4K5_HUMAN', 'Q9Y4K4', 'MAP4K5') 14q22.1\n",
      "('MARK3_HUMAN', 'P27448', 'MARK3') 14q32.32-q32.33\n",
      "('MOK_HUMAN', 'Q9UQ07', 'MOK') 14q32.31\n",
      "('MRCKB_HUMAN', 'Q9Y5S2', 'CDC42BPB') 14q32.32\n",
      "('NEK9_HUMAN', 'Q8TD19', 'NEK9') 14q24.3\n",
      "('RIPK3_HUMAN', 'Q9Y572', 'RIPK3') 14q12\n",
      "('RPKL1_HUMAN', 'Q9Y6S9', 'RPS6KL1') 14q24.3\n",
      "('TSSK4_HUMAN', 'Q6SA08', 'TSSK4') 14q12\n",
      "('VRK1_HUMAN', 'Q99986', 'VRK1') 14q32.2\n"
     ]
    }
   ],
   "source": [
    "search=input(\"Genome location: \")\n",
    "search1=\"%\"+search+\"%\"\n",
    "genloc=session.query(kinase).filter(kinase.c.Genome_location.like(search1)).all()\n",
    "for x in genloc:\n",
    "    print(x[:3],x[5])"
   ]
  }
 ],
 "metadata": {
  "kernelspec": {
   "display_name": "Python 3",
   "language": "python",
   "name": "python3"
  },
  "language_info": {
   "codemirror_mode": {
    "name": "ipython",
    "version": 3
   },
   "file_extension": ".py",
   "mimetype": "text/x-python",
   "name": "python",
   "nbconvert_exporter": "python",
   "pygments_lexer": "ipython3",
   "version": "3.7.0"
  }
 },
 "nbformat": 4,
 "nbformat_minor": 2
}
