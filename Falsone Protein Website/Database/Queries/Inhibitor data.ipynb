{
 "cells": [
  {
   "cell_type": "code",
   "execution_count": 20,
   "metadata": {},
   "outputs": [
    {
     "ename": "SyntaxError",
     "evalue": "invalid syntax (<ipython-input-20-0da1309cd6e4>, line 3)",
     "output_type": "error",
     "traceback": [
      "\u001b[1;36m  File \u001b[1;32m\"<ipython-input-20-0da1309cd6e4>\"\u001b[1;36m, line \u001b[1;32m3\u001b[0m\n\u001b[1;33m    engine=create_engine(\"sqlite:///1.7 -funtional.db\"),(echo=True)\u001b[0m\n\u001b[1;37m                                                             ^\u001b[0m\n\u001b[1;31mSyntaxError\u001b[0m\u001b[1;31m:\u001b[0m invalid syntax\n"
     ]
    }
   ],
   "source": [
    "from sqlalchemy import create_engine\n",
    "from sqlalchemy.orm import sessionmaker\n",
    "engine=create_engine(\"sqlite:///1.7 -funtional.db\")#,echo=True)\n",
    "Session=sessionmaker(bind=engine)\n",
    "session=Session()\n",
    "\n",
    "from sqlalchemy import MetaData, Table\n",
    "metadata = MetaData()\n",
    "alt_names=Table('Alt_names', metadata, autoload=True, autoload_with=engine)\n",
    "inhibitor=Table('Inhibitor',metadata,autoload=True,autoload_with=engine)\n",
    "kinase=Table('Kinase',metadata,autoload=True,autoload_with=engine)\n",
    "kinase_inhibitor=Table('Kinase_Inhibitor',metadata,autoload=True,autoload_with=engine)\n",
    "sub_phos=Table('Substrate_phosphosite',metadata,autoload=True,autoload_with=engine)\n",
    "substrate_kinase=Table('Substrate_site_Kinase',metadata,autoload=True,autoload_with=engine)\n",
    "substrate=Table('Substrate',metadata,autoload=True,autoload_with=engine)"
   ]
  },
  {
   "cell_type": "code",
   "execution_count": 16,
   "metadata": {},
   "outputs": [
    {
     "name": "stdout",
     "output_type": "stream",
     "text": [
      "Enter inhibitor name: D 4476\n",
      "('D 4476', 'C23H18N4O3', 'https://pubchem.ncbi.nlm.nih.gov/image/imagefly.cgi?cid=6419753&width=300&height=300')\n",
      "['CK1 delta', 'p38 alpha MAPK', 'PKD1']\n"
     ]
    }
   ],
   "source": [
    "search=input(\"Enter inhibitor name: \")\n",
    "inhibdat=session.query(inhibitor).filter_by(Inhibitor_name=search).first()\n",
    "kininhib=session.query(kinase_inhibitor).filter_by(Inhibitor_ID=inhibdat.Inhibitor_ID).all()\n",
    "print(inhibdat[1:])\n",
    "kininhibl=[]\n",
    "for x in kininhib:\n",
    "    kininhibl.append(x.Protein_name)\n",
    "print(kininhibl)"
   ]
  }
 ],
 "metadata": {
  "kernelspec": {
   "display_name": "Python 3",
   "language": "python",
   "name": "python3"
  },
  "language_info": {
   "codemirror_mode": {
    "name": "ipython",
    "version": 3
   },
   "file_extension": ".py",
   "mimetype": "text/x-python",
   "name": "python",
   "nbconvert_exporter": "python",
   "pygments_lexer": "ipython3",
   "version": "3.7.0"
  }
 },
 "nbformat": 4,
 "nbformat_minor": 2
}
