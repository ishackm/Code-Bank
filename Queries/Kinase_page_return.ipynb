{
 "cells": [
  {
   "cell_type": "code",
   "execution_count": 1,
   "metadata": {},
   "outputs": [
    {
     "name": "stderr",
     "output_type": "stream",
     "text": [
      "C:\\Users\\44771\\Anaconda3\\lib\\site-packages\\sqlalchemy\\dialects\\sqlite\\base.py:1297: SAWarning: Could not instantiate type <class 'sqlalchemy.sql.sqltypes.INTEGER'> with reflected arguments ['3']; using no arguments.\n",
      "  (coltype, args))\n",
      "C:\\Users\\44771\\Anaconda3\\lib\\site-packages\\sqlalchemy\\dialects\\sqlite\\base.py:1297: SAWarning: Could not instantiate type <class 'sqlalchemy.sql.sqltypes.INTEGER'> with reflected arguments ['7']; using no arguments.\n",
      "  (coltype, args))\n",
      "C:\\Users\\44771\\Anaconda3\\lib\\site-packages\\sqlalchemy\\dialects\\sqlite\\base.py:1297: SAWarning: Could not instantiate type <class 'sqlalchemy.sql.sqltypes.INTEGER'> with reflected arguments ['5']; using no arguments.\n",
      "  (coltype, args))\n"
     ]
    }
   ],
   "source": [
    "from sqlalchemy import create_engine\n",
    "from sqlalchemy.orm import sessionmaker\n",
    "engine=create_engine(\"sqlite:///1.7 -funtional.db\")#,echo=True)\n",
    "Session=sessionmaker(bind=engine)\n",
    "session=Session()\n",
    "\n",
    "from sqlalchemy import MetaData, Table\n",
    "metadata = MetaData()\n",
    "alt_names=Table('Alt_names', metadata, autoload=True, autoload_with=engine)\n",
    "inhibitor=Table('Inhibitor',metadata,autoload=True,autoload_with=engine)\n",
    "kinase=Table('Kinase',metadata,autoload=True,autoload_with=engine)\n",
    "kinase_inhibitor=Table('Kinase_Inhibitor',metadata,autoload=True,autoload_with=engine)\n",
    "sub_phos=Table('Substrate_phosphosite',metadata,autoload=True,autoload_with=engine)\n",
    "substrate_kinase=Table('Substrate_site_Kinase',metadata,autoload=True,autoload_with=engine)\n",
    "substrate=Table('Substrate',metadata,autoload=True,autoload_with=engine)"
   ]
  },
  {
   "cell_type": "code",
   "execution_count": 2,
   "metadata": {},
   "outputs": [
    {
     "name": "stdout",
     "output_type": "stream",
     "text": [
      "Enter a kinase name: MK01_HUMAN\n",
      "('MK01_HUMAN', 'P28482', 'MAPK1', 'Protein kinase superfamily  CMGC Ser/Thr protein kinase family  MAP kinase subfamily', 'Cytoplasm  cytoskeleton  spindle Nucleus. Cytoplasm  cytoskeleton  microtubule organizing center  centrosome. Cytoplasm. Membrane  caveola', '22q11.22', 'Mitogen-activated protein kinase 1')\n",
      "[('4E-BP1', 'S65'), ('4E-BP1', 'T70'), ('4E-BP1', 'T37'), ('4E-BP1', 'T46'), ('53BP2', 'S827'), ('5-LO', 'S664'), ('Abi-1', 'S410'), ('Abi-1', 'T394'), ('Abi-1', 'S392'), ('Abi-1', 'S216'), ('Abi-1', 'T265'), ('Abi-1', 'S183'), ('Abi-1', 'S225'), ('Abi-1', 'S267'), ('AKAP4', 'T265'), ('AML1 iso8', 'S276'), ('AML1 iso8', 'S462'), ('AML1 iso8', 'T300'), ('AML1 iso8', 'S293'), ('AML1 iso8', 'S303'), ('AR', 'S516'), ('ARHGEF2', 'T679'), ('ARRB1', 'S412'), ('ARRB2', 'S14'), ('ARRB2', 'T276'), ('ASB2', 'S323'), ('ATF-2', 'T71'), ('ATF-2', 'S90'), ('BAD', 'S75'), ('BANP', 'T337'), ('BANP', 'T352'), ('Bcl-2', 'T74'), ('Bcl-2', 'T56'), ('Bcl-2', 'S87'), ('Bcl-6', 'S333'), ('Bcl-6', 'S343'), ('BIM', 'S69'), ('BMF', 'S74'), ('BMF', 'S77'), ('BRAF', 'T401'), ('BRAF', 'T753'), ('C/EBP-alpha', 'S21'), ('C/EBP-beta', 'T235'), ('CAD', 'T456'), ('Caldesmon iso4', 'S534'), ('capicua', 'S1409'), ('capicua', 'S1389'), ('CAPN2', 'S50'), ('CASP8', 'S387'), ('CASP9', 'T125'), ('CBP', 'S93'), ('CCNB1', 'S126'), ('CCNB1', 'S128'), ('CDCA5', 'S209'), ('CDCA5', 'S79'), ('CDK2', 'T160'), ('CENPE', 'S2639'), ('CENPE', 'S2654'), ('CENPE', 'S2605'), ('CENPE', 'S2608'), ('CEP55', 'S425'), ('CEP55', 'S428'), ('CIITA', 'S280'), ('CIITA', 'S288'), ('CK2A1', 'S362'), ('CK2A1', 'T360'), ('COPS6', 'S148'), ('Cortactin', 'S405'), ('Cortactin', 'S418'), ('cPLA2', 'S505'), ('DAPK1', 'S734'), ('DAZAP1', 'T315'), ('DAZAP1', 'T269'), ('DRP1', 'S616'), ('DUSP1', 'S323'), ('DUSP1', 'S296'), ('DUSP16', 'S446'), ('DUSP5', 'S376'), ('DUSP5', 'S346'), ('DUSP5', 'T321'), ('DUSP6', 'S159'), ('DUSP6', 'S197'), ('DYRK1B', 'S421'), ('E2A iso2', 'S352'), ('E2A iso2', 'S359'), ('E2A iso2', 'T355'), ('EGFR', 'T693'), ('eIF2-alpha', 'S52'), ('eIF4G iso8', 'S1232'), ('ELK1', 'S383'), ('ER-alpha', 'S118'), ('ER-alpha', 'S106'), ('ER-alpha', 'S104'), ('ERF', 'T526'), ('ERF', 'S161'), ('ERF', 'S251'), ('ERF', 'S246'), ('ERG', 'S103'), ('ERG', 'S222'), ('ERK2', 'S246'), ('ERK5', 'T733'), ('Ets-1', 'T38'), ('EWS', 'T79'), ('EXOC7', 'S250'), ('FAM103A1', 'S36'), ('FAM195B', 'S21'), ('FAM195B', 'T30'), ('FBXW7', 'T205'), ('Fe65', 'T709'), ('Fe65', 'S175'), ('Fe65', 'S347'), ('Fe65', 'S287'), ('FGFR1', 'S777'), ('Fos', 'T232'), ('FOXO3A', 'S294'), ('FOXO3A', 'S344'), ('FOXO3A', 'S425'), ('FOXO3A', 'S12'), ('GAB1', 'T476'), ('GAB2', 'S623'), ('GATA6', 'S266'), ('girdin', 'S233'), ('girdin', 'S237'), ('GRASP55', 'T222'), ('GRASP55', 'T225'), ('GRB10', 'S150'), ('GRB10', 'S476'), ('GSK3B', 'T43'), ('GTF2I iso2', 'S627'), ('GTF2I iso2', 'S633'), ('HDAC6', 'T1031'), ('HECTD3', 'T157'), ('HePTP', 'T66'), ('HePTP', 'S93'), ('HER2', 'T701'), ('HIF1A', 'S643'), ('HIF1A', 'S641'), ('hnRNP K', 'S284'), ('HSP75', 'S511'), ('IEX-1', 'T18'), ('IL2RB', 'T476'), ('IRS1', 'S636'), ('IRS1', 'S639'), ('JMJD2B', 'S352'), ('JMJD2B', 'T1065'), ('JMJD2B', 'S622'), ('JMJD2B', 'T305'), ('JMJD2B', 'S566'), ('KIBRA', 'S548'), ('KIBRA', 'S542'), ('KLF8', 'S48'), ('Lck', 'S59'), ('LIFR', 'S1044'), ('LRP6', 'S1490'), ('LRP6', 'T1572'), ('LYL1', 'S36'), ('MAFA', 'S14'), ('MAFA', 'S65'), ('MAPKAPK2', 'T222'), ('MAPKAPK2', 'S272'), ('MAPKAPK2', 'T25'), ('MAPKAPK2', 'T334'), ('MAPKAPK2', 'S9'), ('MAPKAPK5', 'T182'), ('MARCKS', 'S46'), ('MBP', 'T232'), ('MCL1', 'T163'), ('MCTS1', 'T81'), ('MED1', 'T1457'), ('MED1', 'T1032'), ('MEK1', 'T286'), ('MEK1', 'T292'), ('MEK1', 'T386'), ('MITF iso9', 'S73'), ('MKL1', 'S454'), ('Mnk1', 'T255'), ('MSK1', 'S360'), ('MSK1', 'T581'), ('MTMR2', 'S58'), ('Myc', 'T58'), ('Myc', 'S62'), ('NCAM-L1', 'S1248'), ('NCAM-L1', 'S1204'), ('NCOA6', 'S884'), ('NDEL1', 'T245'), ('NDEL1', 'T219'), ('NFAT3', 'S676'), ('NFL', 'T21'), ('NHE1', 'S726'), ('NHE1', 'S723'), ('NHE1', 'T779'), ('NHE1', 'S771'), ('NHE1', 'S785'), ('NHE1', 'S693'), ('NHE1', 'S770'), ('NOX5 iso4', 'S498'), ('NOXA1', 'S282'), ('NUP153', 'S516'), ('NUP153', 'T388'), ('NUP153', 'S257'), ('NUP153', 'S338'), ('NUP153', 'S320'), ('NUP153', 'S529'), ('NUP153', 'S334'), ('NUP153', 'T413'), ('NUP153', 'T369'), ('NUP153', 'S522'), ('NUP214', 'S1809'), ('NUP214', 'S1710'), ('NUP50', 'S315'), ('NUP50', 'S221'), ('Nur77', 'S431'), ('p21Cip1', 'S130'), ('p21Cip1', 'S98'), ('p21Cip1', 'T57'), ('p27Kip1', 'S10'), ('p27Kip1', 'T187'), ('p27Kip1', 'S178'), ('p300', 'S2315'), ('p300', 'T1960'), ('p300', 'S2279'), ('p300', 'T317'), ('p300', 'S2366'), ('p300', 'T938'), ('p47phox', 'S345'), ('p53', 'S15'), ('p53', 'T55'), ('p67phox', 'T233'), ('p70S6K', 'S447'), ('p70S6K', 'T444'), ('p70S6K', 'S434'), ('p90RSK', 'T573'), ('palladin', 'S688'), ('palladin', 'S808'), ('PARP1', 'S372'), ('PARP1', 'T373'), ('PDE4B', 'S659'), ('PDE4B iso2', 'S487'), ('PDE4C iso2', 'S535'), ('PDE4D iso2', 'S579'), ('PDE4D iso4', 'S490'), ('PDE4D iso5', 'S413'), ('PDX1', 'S66'), ('PDX1', 'S61'), ('PGK1', 'S203'), ('PIMT', 'S298'), ('PITPNM1', 'T794'), ('PITPNM1', 'T1223'), ('PKM', 'S37'), ('PKR', 'T451'), ('PLCB1', 'S982'), ('PML iso4', 'T28'), ('PML iso4', 'S38'), ('PML iso4', 'S527'), ('PML iso4', 'S36'), ('PML iso4', 'S40'), ('PML iso4', 'S530'), ('Oct-04', 'S111'), ('Oct-04', 'T118'), ('Oct-04', 'S355'), ('PPAR-gamma', 'S112'), ('PR', 'S294'), ('PRDX6', 'T177'), ('PSD-93', 'S323'), ('PTP-PEST', 'S571'), ('PXN iso2', 'S83'), ('PXN iso2', 'S130'), ('PXN iso2', 'S126'), ('Raptor', 'S863'), ('Raptor', 'S696'), ('Raptor', 'S8'), ('RBM17', 'S222'), ('RBM17', 'T71'), ('RGS19', 'S151'), ('RORA iso4', 'T128'), ('RPS3', 'T42'), ('RRas2', 'S186'), ('RSK2', 'Y529'), ('RSK2', 'Y488'), ('RXRA', 'S260'), ('separase', 'S1126'), ('SERT', 'T616'), ('SH2-B-beta', 'S96'), ('SMAD1', 'S206'), ('SMAD1', 'S195'), ('SMAD1', 'S187'), ('SMAD1', 'S214'), ('SMAD2', 'S255'), ('SMAD2', 'S250'), ('SMAD2', 'S245'), ('SMAD2', 'T220'), ('SMAD3', 'S208'), ('SMAD3', 'S204'), ('SMAD3', 'T179'), ('SMAD3', 'S213'), ('smMLCK', 'S1779'), ('Snail1', 'S104'), ('Snail1', 'S82'), ('Snail2', 'S104'), ('Snail2', 'S87'), ('SOS1', 'S1197'), ('SOS1', 'S1193'), ('SOS1', 'S1132'), ('SOS1', 'S1178'), ('SOS1', 'S1167'), ('SP1', 'S59'), ('SP1', 'T453'), ('SP1', 'T739'), ('SP3', 'S73'), ('SPHK1', 'S225'), ('SPHK2', 'S387'), ('SPHK2', 'T614'), ('SRC-1', 'T1179'), ('SRC-1', 'S1185'), ('SRC-1', 'S395'), ('SRC-2', 'S736'), ('SREBP-1', 'S117'), ('SREBP-1 iso3', 'T81'), ('SREBP-1 iso3', 'S93'), ('SREBP-2', 'S455'), ('SREBP-2', 'S432'), ('STAT5A', 'S780'), ('STF-1', 'S203'), ('STIM1', 'S608'), ('STIM1', 'S575'), ('STIM1', 'S621'), ('STMN3', 'S68'), ('TACE', 'T735'), ('Tau iso8', 'T231'), ('Tau iso8', 'S396'), ('Tau iso8', 'S422'), ('Tau iso8', 'S202'), ('Tau iso8', 'S199'), ('Tau iso8', 'T217'), ('Tau iso8', 'T50'), ('Tau iso8', 'S404'), ('Tau iso8', 'T181'), ('Tau iso8', 'T175'), ('Tau iso8', 'T212'), ('Tau iso8', 'T153'), ('Tau iso8', 'T205'), ('Tau iso8', 'S235'), ('Tau iso8', 'S46'), ('Tau iso8', 'S191'), ('TH', 'S62'), ('TH iso2', 'S58'), ('TH iso3', 'S31'), ('TOB1', 'S154'), ('TOB1', 'S152'), ('TOB1', 'S164'), ('TOP2A', 'S1361'), ('TOP2A', 'S1247'), ('TOP2A', 'S1354'), ('TOP2A', 'S1393'), ('TOP2A', 'S1213'), ('TPPP', 'S160'), ('TPPP', 'S18'), ('TR-beta1', 'S142'), ('TRF2', 'S365'), ('TSC2', 'S664'), ('TTK', 'S821'), ('TWIST1', 'S68'), ('vinexin iso2', 'S188'), ('WAVE2', 'S308'), ('WAVE2', 'S296'), ('XBP1', 'S68'), ('XBP1', 'S181')]\n",
      "[('3', '1 NM-PP1 (PP1 Analog II)', 'C20H21N5', 'https://pubchem.ncbi.nlm.nih.gov/image/imagefly.cgi?cid=5154691&width=300&height=300'), ('6', 'A-769662', 'C20H12N2O3S', 'https://pubchem.ncbi.nlm.nih.gov/image/imagefly.cgi?cid=54708532&width=300&height=300'), ('9', 'Akti 1/2', 'C34H29N7O', 'https://pubchem.ncbi.nlm.nih.gov/image/imagefly.cgi?cid=10196499&width=300&height=300'), ('25', 'BX-517 Analog (compound 7b)', 'C19H15N5O2', 'https://pubchem.ncbi.nlm.nih.gov/image/imagefly.cgi?cid=11588244&width=300&height=300'), ('26', 'BX-795', 'C23H26IN7O2S', 'https://pubchem.ncbi.nlm.nih.gov/image/imagefly.cgi?cid=10077147&width=300&height=300'), ('49', 'G?? 6976', 'C24H18N4O', 'https://pubchem.ncbi.nlm.nih.gov/image/imagefly.cgi?cid=3501&width=300&height=300'), ('66', 'K252a', 'C27H21N3O5', 'https://pubchem.ncbi.nlm.nih.gov/image/imagefly.cgi?cid=127357&width=300&height=300'), ('97', 'Roscovitine', 'C19H26N6O', 'https://pubchem.ncbi.nlm.nih.gov/image/imagefly.cgi?cid=160355&width=300&height=300'), ('127', 'Wyeth PDK1 Inhibitor Compound 1', 'C19H22Cl4N4O2', 'Unavailable'), ('133', 'IPA-3', 'C20H14O2S2', 'https://pubchem.ncbi.nlm.nih.gov/image/imagefly.cgi?cid=521106&width=300&height=300'), ('140', 'SYK Inhibitor II', 'C14H15F3N6O�2HCl�2H2O', 'https://pubchem.ncbi.nlm.nih.gov/image/imagefly.cgi?cid=16760670&width=300&height=300'), ('154', 'AG1478 (Tyrphostin)', 'C16H14ClN3O2', 'https://pubchem.ncbi.nlm.nih.gov/image/imagefly.cgi?cid=2051&width=300&height=300'), ('166', 'Cot-Tpl2 Inhibitor Compound 10b (Abbott)', 'C20H15N3OS', 'Unavailable'), ('181', 'Purvalanol B', 'C20H25ClN6O3', 'https://pubchem.ncbi.nlm.nih.gov/image/imagefly.cgi?cid=448991&width=300&height=300'), ('208', 'Staurosporine', 'C28H26N4O3', 'https://pubchem.ncbi.nlm.nih.gov/image/imagefly.cgi?cid=451705&width=300&height=300'), ('216', 'Novartis 12a (PKD1)', 'C23H29F3N6O3', 'Unavailable'), ('254', 'Hypothemycin', 'C19H22O8', 'https://pubchem.ncbi.nlm.nih.gov/image/imagefly.cgi?cid=6474405&width=300&height=300'), ('259', 'TAE684', 'C30H40ClN7O3S', 'https://pubchem.ncbi.nlm.nih.gov/image/imagefly.cgi?cid=16038120&width=300&height=300'), ('289', 'TTT-3002', 'Unavailable', 'Unavailable'), ('294', 'PKR Inhibitor', 'C13H8N4OS', 'https://pubchem.ncbi.nlm.nih.gov/image/imagefly.cgi?cid=6490494&width=300&height=300'), ('300', 'MRT199665', 'C28H31N5O2.ClH', 'Unavailable'), ('319', 'PRT062607', 'C19H23N9O', 'https://pubchem.ncbi.nlm.nih.gov/image/imagefly.cgi?cid=44462758��&width=300&height=300'), ('327', 'Celastrol', 'C29H38O4', 'https://pubchem.ncbi.nlm.nih.gov/image/imagefly.cgi?cid=92310323&width=300&height=300'), ('339', 'RO-3306', 'C18H13N3OS2', 'https://pubchem.ncbi.nlm.nih.gov/image/imagefly.cgi?cid=71433937&width=300&height=300')]\n"
     ]
    }
   ],
   "source": [
    "search=input(\"Enter a kinase name: \")\n",
    "try:\n",
    "    kdat=session.query(kinase).filter_by(Kinase_name=search).one()\n",
    "    altdat=session.query(alt_names).filter_by(Kinase_name=search).all() #main bulk of data for page\n",
    "    allnames=[]\n",
    "    sbkid=[]\n",
    "    for x in altdat:\n",
    "        allnames.append(x.Protein_name) #gets all alt names for parsing through phosite and inhibitor\n",
    "    for x in allnames:\n",
    "        subkdat=session.query(substrate_kinase).filter_by(Kinase_name=x).all()\n",
    "        for y in subkdat:\n",
    "            if y.Substrate_kinase_ID not in sbkid:\n",
    "                sbkid.append(y.Substrate_kinase_ID)\n",
    "    phositedat=[]\n",
    "    for x in sbkid:\n",
    "        phosite=session.query(sub_phos).filter_by(Substrate_kinase_ID=x).all()\n",
    "        for y in phosite:\n",
    "            phositedat.append(y[1:3])\n",
    "    ##\n",
    "    inhibid=[]\n",
    "    for x in allnames:\n",
    "        kinhib=session.query(kinase_inhibitor).filter_by(Protein_name=x).all()\n",
    "        for y in kinhib:\n",
    "            inhibid.append(y.Inhibitor_ID)\n",
    "    inhibdat=[]\n",
    "    for x in inhibid:\n",
    "        inhib=session.query(inhibitor).filter_by(Inhibitor_ID=x).one()\n",
    "        inhibdat.append(inhib)\n",
    "\n",
    "    print(kdat)\n",
    "    print(phositedat)\n",
    "    print(inhibdat)\n",
    "except:\n",
    "    print(\"Kinase not found\")"
   ]
  },
  {
   "cell_type": "code",
   "execution_count": null,
   "metadata": {},
   "outputs": [],
   "source": []
  }
 ],
 "metadata": {
  "kernelspec": {
   "display_name": "Python 3",
   "language": "python",
   "name": "python3"
  },
  "language_info": {
   "codemirror_mode": {
    "name": "ipython",
    "version": 3
   },
   "file_extension": ".py",
   "mimetype": "text/x-python",
   "name": "python",
   "nbconvert_exporter": "python",
   "pygments_lexer": "ipython3",
   "version": "3.7.0"
  }
 },
 "nbformat": 4,
 "nbformat_minor": 2
}
