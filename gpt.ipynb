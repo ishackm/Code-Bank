{
  "nbformat": 4,
  "nbformat_minor": 0,
  "metadata": {
    "colab": {
      "name": "gpt.ipynb",
      "provenance": [],
      "collapsed_sections": []
    },
    "kernelspec": {
      "name": "python3",
      "display_name": "Python 3"
    }
  },
  "cells": [
    {
      "cell_type": "code",
      "metadata": {
        "id": "EfCB3I71WQ9Z",
        "colab_type": "code",
        "outputId": "32cc3a12-696e-4db3-c352-34049f1a7568",
        "colab": {
          "base_uri": "https://localhost:8080/",
          "height": 1000
        }
      },
      "source": [
        "# Required Modules \n",
        "import os # to use the commandline prompt\n",
        "import pandas as pd # to maninpulate the csv to write a for loop for the gpt process\n",
        "\n",
        "data = pd.read_csv(\"radar_images.csv\")\n",
        "data.head()\n",
        "# The File Name column is the name of the radar image\n",
        "\n",
        "product_list_name = data[\"File Name\"].tolist() \n",
        "\n",
        "# All input image .zip files are in the \"s1_pc/s1/s1_slc/unit1/\" directory\n",
        "# All processed calibrated and debursted .dim files will be outputted in the \"s1_pc/s1/deb/unit1/\" directory\n",
        "\n",
        "\n",
        "# This is an examaple of a gpt command sent to the cmd from Python\n",
        "command = 'cmd /k \"gpt Method/gpt_scripts/s1_cal_deb.xml -t ../s1_pc/s1/deb/unit/S1A_IW_SLC__1SDV_20190224T003144_20190224T003211_026064_02E80B_0ECE_cal_deb.dim ../s1_pc/s1/s1_slc/unit1/S1A_IW_SLC__1SDV_20190224T003144_20190224T003211_026064_02E80B_0ECE.zip\"'\n",
        "\n",
        "result = [] # Empty list to store the list of processed S1_SLC images\n",
        "\n",
        "\n",
        "for i in range(len(product_list_name)):\n",
        "  name = product_list_name[i] # define a variable \n",
        "  command = 'cmd /k \"gpt Method/gpt_scripts/s1_cal_deb.xml -t ../s1_pc/s1/deb/unit/S1A_IW_SLC__1SDV_20190224T003144_20190224T003211_026064_02E80B_0ECE_cal_deb.dim ../s1_pc/s1/s1_slc/unit1/S1A_IW_SLC__1SDV_20190224T003144_20190224T003211_026064_02E80B_0ECE.zip\"' # example gpt command\n",
        "  command = command.replace( \"S1A_IW_SLC__1SDV_20190224T003144_20190224T003211_026064_02E80B_0ECE\", name) # replace the filename part with each iteration\n",
        "  print (name + \" is being processed....\" ) # When the GPT command is commenced in the Jupter Notebook commandline interface print the following\n",
        "  os.system(command) # Start GPT command in the Jupyter Notebook cmd\n",
        "  result.append(command) # append processed filename to list\n",
        "  print (name + \" is processed\" )\n",
        "      \n",
        "\n",
        "print(\"Process Completed\")\n",
        "\n",
        "\n",
        "\n",
        "\n",
        "\n",
        "\n",
        " \n",
        "\n",
        " \n",
        "\n",
        "\n"
      ],
      "execution_count": 23,
      "outputs": [
        {
          "output_type": "stream",
          "text": [
            "S1A_IW_SLC__1SDV_20190928T003154_20190928T003221_029214_035175_65FA is being processed....\n",
            "S1A_IW_SLC__1SDV_20190928T003154_20190928T003221_029214_035175_65FA is processed\n",
            "S1B_IW_SLC__1SDV_20191215T003113_20191215T003141_019368_024959_4429 is being processed....\n",
            "S1B_IW_SLC__1SDV_20191215T003113_20191215T003141_019368_024959_4429 is processed\n",
            "S1A_IW_SLC__1SDV_20191022T003154_20191022T003221_029564_035D83_8A6C is being processed....\n",
            "S1A_IW_SLC__1SDV_20191022T003154_20191022T003221_029564_035D83_8A6C is processed\n",
            "S1A_IW_SLC__1SDV_20190916T003153_20190916T003220_029039_034B7D_AE0C is being processed....\n",
            "S1A_IW_SLC__1SDV_20190916T003153_20190916T003220_029039_034B7D_AE0C is processed\n",
            "S1A_IW_SLC__1SDV_20171101T003141_20171101T003208_019064_0203EE_F70B is being processed....\n",
            "S1A_IW_SLC__1SDV_20171101T003141_20171101T003208_019064_0203EE_F70B is processed\n",
       
            "Process Completed\n"
          ],
          "name": "stdout"
        }
      ]
    },
    {
      "cell_type": "code",
      "metadata": {
        "id": "62y0kqGWWwTn",
        "colab_type": "code",
        "colab": {}
      },
      "source": [
        ""
      ],
      "execution_count": 0,
      "outputs": []
    },
    {
      "cell_type": "code",
      "metadata": {
        "id": "VFNVDt_pXo5n",
        "colab_type": "code",
        "colab": {}
      },
      "source": [
        ""
      ],
      "execution_count": 0,
      "outputs": []
    },
    {
      "cell_type": "code",
      "metadata": {
        "id": "k2aS0DXJX6Ne",
        "colab_type": "code",
        "colab": {}
      },
      "source": [
        ""
      ],
      "execution_count": 0,
      "outputs": []
    }
  ]
}
